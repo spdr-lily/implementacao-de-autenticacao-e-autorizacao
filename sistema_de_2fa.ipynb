{
  "nbformat": 4,
  "nbformat_minor": 0,
  "metadata": {
    "colab": {
      "provenance": [],
      "authorship_tag": "ABX9TyNWPE0LEeIblyZYNI46VkiW",
      "include_colab_link": true
    },
    "kernelspec": {
      "name": "python3",
      "display_name": "Python 3"
    },
    "language_info": {
      "name": "python"
    }
  },
  "cells": [
    {
      "cell_type": "markdown",
      "metadata": {
        "id": "view-in-github",
        "colab_type": "text"
      },
      "source": [
        "<a href=\"https://colab.research.google.com/github/spdr-lily/implementacao-de-autenticacao-e-autorizacao/blob/main/sistema_de_2fa.ipynb\" target=\"_parent\"><img src=\"https://colab.research.google.com/assets/colab-badge.svg\" alt=\"Open In Colab\"/></a>"
      ]
    },
    {
      "cell_type": "markdown",
      "source": [
        "# Criação de um sistema simples de autenticação de dois fatores (2FA) baseado em tempo, usando as bibliotecas pyotp e qrcode"
      ],
      "metadata": {
        "id": "MluevuzGg2Pe"
      }
    },
    {
      "cell_type": "code",
      "source": [
        "!pip install pyotp\n",
        "!pip install qrcode"
      ],
      "metadata": {
        "colab": {
          "base_uri": "https://localhost:8080/"
        },
        "id": "6fXC-KGthX5Z",
        "outputId": "95d85556-5909-4535-984f-9bb46d097929"
      },
      "execution_count": 2,
      "outputs": [
        {
          "output_type": "stream",
          "name": "stdout",
          "text": [
            "Collecting pyotp\n",
            "  Downloading pyotp-2.9.0-py3-none-any.whl.metadata (9.8 kB)\n",
            "Downloading pyotp-2.9.0-py3-none-any.whl (13 kB)\n",
            "Installing collected packages: pyotp\n",
            "Successfully installed pyotp-2.9.0\n",
            "Collecting qrcode\n",
            "  Downloading qrcode-8.2-py3-none-any.whl.metadata (17 kB)\n",
            "Downloading qrcode-8.2-py3-none-any.whl (45 kB)\n",
            "\u001b[2K   \u001b[90m━━━━━━━━━━━━━━━━━━━━━━━━━━━━━━━━━━━━━━━━\u001b[0m \u001b[32m46.0/46.0 kB\u001b[0m \u001b[31m2.4 MB/s\u001b[0m eta \u001b[36m0:00:00\u001b[0m\n",
            "\u001b[?25hInstalling collected packages: qrcode\n",
            "Successfully installed qrcode-8.2\n"
          ]
        }
      ]
    },
    {
      "cell_type": "code",
      "execution_count": 12,
      "metadata": {
        "id": "g39_80tVgsEt"
      },
      "outputs": [],
      "source": [
        "# importação de bibliotecas\n",
        "import time\n",
        "import pyotp\n",
        "import qrcode"
      ]
    },
    {
      "cell_type": "code",
      "source": [
        "# função para gerar a chave mestre\n",
        "def gerar_chave_secreta():\n",
        "    return pyotp.random_base32()\n",
        "    print(\"Chave mestre gerada:\", chave_mestre)"
      ],
      "metadata": {
        "id": "OvyY9ejrjSWZ"
      },
      "execution_count": 16,
      "outputs": []
    },
    {
      "cell_type": "code",
      "source": [
        "# função para gerar um QR code a partir da chave e informações do usuário\n",
        "def gerar_qrcode(chave, nome_usuario, nome_emissor):\n",
        "    uri = pyotp.TOTP(chave).provisioning_uri(name=nome_usuario, issuer_name=nome_emissor)\n",
        "    meu_qrcode = qrcode.make(uri)\n",
        "    meu_qrcode.save(f\"qrcode_{nome_usuario}.png\")\n",
        "    print(f\"QR code salvo como qrcode_{nome_usuario}.png\")\n",
        "    return uri"
      ],
      "metadata": {
        "id": "kyHKQaG7kpYY"
      },
      "execution_count": 17,
      "outputs": []
    },
    {
      "cell_type": "code",
      "source": [
        "# função para verificar se o código digitado é válido\n",
        "def verificar_codigo(chave, codigo_digitado):\n",
        "    totp = pyotp.TOTP(chave)\n",
        "    return totp.verify(codigo_digitado)"
      ],
      "metadata": {
        "id": "yeNN0b0tk2_b"
      },
      "execution_count": 25,
      "outputs": []
    },
    {
      "cell_type": "code",
      "source": [
        "# gerar chave mestre\n",
        "chave_mestre = gerar_chave_secreta()\n",
        "print(\"Chave mestre gerada:\", chave_mestre)"
      ],
      "metadata": {
        "colab": {
          "base_uri": "https://localhost:8080/"
        },
        "id": "OGNY1L9_lDKk",
        "outputId": "627a570c-161f-428a-8d10-4869233a3eac"
      },
      "execution_count": 28,
      "outputs": [
        {
          "output_type": "stream",
          "name": "stdout",
          "text": [
            "Chave mestre gerada: 6MXLF75ANOHV4GKCRGFV27KFJXQ6LMNM\n"
          ]
        }
      ]
    },
    {
      "cell_type": "code",
      "source": [
        "# Lógica do TOTP (Códigos de Tempo)\n",
        "codigo = input(\"Digite o código de autenticação: \")\n",
        "if verificar_codigo(chave_mestre, codigo):\n",
        "    print(\"Autenticação bem-sucedida!\")\n",
        "else:\n",
        "    print(\"Código de autenticação inválido.\")"
      ],
      "metadata": {
        "colab": {
          "base_uri": "https://localhost:8080/"
        },
        "id": "dXWLDGnqnJRY",
        "outputId": "c34e4753-f6f8-4534-ba56-59a83fd73cd3"
      },
      "execution_count": 29,
      "outputs": [
        {
          "output_type": "stream",
          "name": "stdout",
          "text": [
            "Digite o código de autenticação: 6MXLF75ANOHV4GKCRGFV27KFJXQ6LMNM\n",
            "Código de autenticação inválido.\n"
          ]
        }
      ]
    },
    {
      "cell_type": "code",
      "source": [
        "# Exemplo de uso\n",
        "if __name__ == \"__main__\":\n",
        "    # A chave seria salva em um banco de dados para um usuário real\n",
        "    chave_mestre = \"T6HJMBUJHD7W3DWU4KE7FRDE6EOFIM3J\"\n",
        "\n",
        "    # Parte 1: Gerar e exibir o QR Code para o usuário configurar\n",
        "    link_de_configuracao = gerar_qrcode(chave_mestre, \"lira\", \"CodigoPython\")\n",
        "    print(f\"Link de provisionamento para configuração: {link_de_configuracao}\")\n",
        "\n",
        "    # Simulação da verificação do código pelo usuário\n",
        "    print(\"--------------------------------------------------\")\n",
        "    print(f\"Código atual gerado: {pyotp.TOTP(chave_mestre).now()}\")\n",
        "    print(\"--------------------------------------------------\")\n",
        "\n",
        "    codigo_do_usuario = input(\"Digite o código do seu aplicativo de autenticação: \")\n",
        "\n",
        "    # Parte 2: Verificação do código digitado\n",
        "    if verificar_codigo(chave_mestre, codigo_do_usuario):\n",
        "        print(\"Autenticação bem-sucedida! Acesso liberado.\")\n",
        "    else:\n",
        "        print(\"Código incorreto ou expirado. Tente novamente.\")"
      ],
      "metadata": {
        "colab": {
          "base_uri": "https://localhost:8080/"
        },
        "id": "uvCJUO2Sngfj",
        "outputId": "eeeadd49-8b55-4510-fa91-10034eed1701"
      },
      "execution_count": 32,
      "outputs": [
        {
          "output_type": "stream",
          "name": "stdout",
          "text": [
            "QR code salvo como qrcode_lira.png\n",
            "Link de provisionamento para configuração: otpauth://totp/CodigoPython:lira?secret=T6HJMBUJHD7W3DWU4KE7FRDE6EOFIM3J&issuer=CodigoPython\n",
            "--------------------------------------------------\n",
            "Código atual gerado: 268910\n",
            "--------------------------------------------------\n",
            "Digite o código do seu aplicativo de autenticação: 268910\n",
            "Código incorreto ou expirado. Tente novamente.\n"
          ]
        }
      ]
    },
    {
      "cell_type": "code",
      "source": [],
      "metadata": {
        "id": "CwUcLg-fohlF"
      },
      "execution_count": null,
      "outputs": []
    }
  ]
}